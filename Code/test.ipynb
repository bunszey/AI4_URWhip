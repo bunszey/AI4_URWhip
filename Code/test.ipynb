{
 "cells": [
  {
   "cell_type": "markdown",
   "metadata": {},
   "source": [
    "# Includes"
   ]
  },
  {
   "cell_type": "code",
   "execution_count": 1,
   "metadata": {},
   "outputs": [],
   "source": [
    "import mujoco\n",
    "import sys\n",
    "import os\n",
    "import math\n",
    "from tqdm import tqdm\n",
    "import mediapy as media\n",
    "\n"
   ]
  },
  {
   "cell_type": "markdown",
   "metadata": {},
   "source": [
    "# Classes and functions"
   ]
  },
  {
   "cell_type": "code",
   "execution_count": 2,
   "metadata": {},
   "outputs": [],
   "source": [
    "class UR5e:\n",
    "  \n",
    "    def __init__(self, path):\n",
    "        print('UR5e init.')\n",
    "        self.m = mujoco.MjModel.from_xml_path(path)\n",
    "        self.d = mujoco.MjData(self.m)\n",
    "        self.startPos = [0, 0, 0, -math.pi/2, -math.pi/2, 0]\n",
    "        for i in range(50):\n",
    "            self.startPos.append(0)\n",
    "        self.d.qpos = self.startPos\n",
    "        mujoco.mj_forward(self.m, self.d)\n",
    "    \n",
    "    def __del__(self):\n",
    "        print('UR5e del.')"
   ]
  },
  {
   "cell_type": "code",
   "execution_count": 3,
   "metadata": {},
   "outputs": [],
   "source": [
    "def mycontroller(m, d):\n",
    "    qacc = d.qacc\n",
    "    for i in range(56):\n",
    "        qacc[i] = 0\n",
    "    \n",
    "    d.qacc = qacc\n",
    "    mujoco.mj_inverse(m, d)\n",
    "    for i in range(6):\n",
    "        d.ctrl[i] = d.qfrc_inverse[i]"
   ]
  },
  {
   "cell_type": "code",
   "execution_count": 4,
   "metadata": {},
   "outputs": [],
   "source": [
    "class DataSaver:\n",
    "    def __init__(self):\n",
    "        self.data = []\n",
    "    \n",
    "    def add_data(self, d):\n",
    "        self.data.append(d.qpos[0:56])\n",
    "\n",
    "    def save_to_file(self, filename):\n",
    "        with open(filename, 'w') as f:\n",
    "            for d in self.data:\n",
    "                f.write(','.join([str(x) for x in d]))\n",
    "                f.write('\\n')"
   ]
  },
  {
   "cell_type": "markdown",
   "metadata": {},
   "source": [
    "# Simulation"
   ]
  },
  {
   "cell_type": "code",
   "execution_count": 5,
   "metadata": {},
   "outputs": [],
   "source": [
    "xml_path = '../Models/universal_robots_ur5e/scene.xml'\n",
    "duration = 5\n",
    "max_steps = int(duration/0.002)\n",
    "recordVideo = True\n",
    "framerate = 20"
   ]
  },
  {
   "cell_type": "code",
   "execution_count": 6,
   "metadata": {},
   "outputs": [
    {
     "name": "stdout",
     "output_type": "stream",
     "text": [
      "ur5e does not exist, creating it\n",
      "UR5e init.\n"
     ]
    }
   ],
   "source": [
    "if 'ur5e' in locals():\n",
    "    print('ur5e already exists, deleting it')\n",
    "    del ur5e\n",
    "\n",
    "try:\n",
    "    ur5e\n",
    "except NameError:\n",
    "    print('ur5e does not exist, creating it')\n",
    "    ur5e = UR5e(xml_path)\n"
   ]
  },
  {
   "cell_type": "code",
   "execution_count": 7,
   "metadata": {},
   "outputs": [],
   "source": [
    "if 'renderer' in locals():\n",
    "    print('renderer already exists')\n",
    "    del renderer\n",
    "\n",
    "\n",
    "try:\n",
    "    renderer\n",
    "except NameError:\n",
    "    renderer = mujoco.Renderer(ur5e.m, 480, 640)"
   ]
  },
  {
   "cell_type": "code",
   "execution_count": 8,
   "metadata": {},
   "outputs": [],
   "source": [
    "stepsize = ur5e.m.opt.timestep\n",
    "mujoco.set_mjcb_control(mycontroller)\n",
    "ds = DataSaver()"
   ]
  },
  {
   "cell_type": "code",
   "execution_count": 9,
   "metadata": {},
   "outputs": [
    {
     "name": "stderr",
     "output_type": "stream",
     "text": [
      " 80%|████████  | 4.003999999999781/5 [00:00<00:00, 10.57it/s] "
     ]
    }
   ],
   "source": [
    "\n",
    "idx = 0\n",
    "frames = []\n",
    "progress_bar = tqdm(total=duration)\n",
    "while ur5e.d.time < duration and idx < max_steps:\n",
    "    progress_bar.update(stepsize)\n",
    "    #progress_bar.set_description(f\"Time: {ur5e.d.time:.2f}\")\n",
    "\n",
    "    ds.add_data(ur5e.d)\n",
    "    \n",
    "    if len(frames) < ur5e.d.time * framerate and recordVideo:\n",
    "        renderer.update_scene(ur5e.d, camera=\"fixed\", scene_option=dict())\n",
    "        pixels = renderer.render()\n",
    "        frames.append(pixels)\n",
    "\n",
    "    mujoco.mj_step(ur5e.m, ur5e.d)\n",
    "    idx += 1\n",
    "    "
   ]
  },
  {
   "cell_type": "code",
   "execution_count": 10,
   "metadata": {},
   "outputs": [
    {
     "name": "stderr",
     "output_type": "stream",
     "text": [
      "100%|█████████▉| 4.999999999999671/5 [00:19<00:00, 10.57it/s]"
     ]
    }
   ],
   "source": [
    "if recordVideo:\n",
    "    media.show_video(frames, fps=framerate)\n",
    "    \n",
    "ds.save_to_file('data.csv')"
   ]
  }
 ],
 "metadata": {
  "kernelspec": {
   "display_name": "Python 3",
   "language": "python",
   "name": "python3"
  },
  "language_info": {
   "codemirror_mode": {
    "name": "ipython",
    "version": 3
   },
   "file_extension": ".py",
   "mimetype": "text/x-python",
   "name": "python",
   "nbconvert_exporter": "python",
   "pygments_lexer": "ipython3",
   "version": "3.10.12"
  }
 },
 "nbformat": 4,
 "nbformat_minor": 2
}
